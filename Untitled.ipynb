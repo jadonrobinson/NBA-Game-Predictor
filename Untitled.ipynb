{
 "cells": [
  {
   "cell_type": "code",
   "execution_count": 3,
   "id": "9e773fb9-5f93-4c10-8ec6-db5bc40d02a1",
   "metadata": {},
   "outputs": [],
   "source": [
    "import pandas as pd\n",
    "import numpy as np\n",
    "from sklearn.linear_model import LogisticRegression\n",
    "from sklearn.ensemble import RandomForestClassifier\n",
    "from sklearn.model_selection import train_test_split\n",
    "from sklearn.metrics import accuracy_score\n",
    "import matplotlib.pyplot as plt\n",
    "import tensorflow as tf\n",
    "from tensorflow.keras.models import Sequential\n",
    "from tensorflow.keras.layers import LSTM, Dense, Dropout\n",
    "\n",
    "np.random.seed(42)\n",
    "num_games = 1500\n",
    "nba_data = pd.DataFrame({\n",
    "    \"game_date\": pd.date_range(start=\"2023-01-01\", periods=num_games, freq=\"D\"),\n",
    "    \"home_team_rating\": np.random.normal(110, 5, num_games),\n",
    "    \"away_team_rating\": np.random.normal(108, 5, num_games),\n",
    "    \"home_win_streak\": np.random.randint(0, 5, num_games),\n",
    "    \"away_win_streak\": np.random.randint(0, 5, num_games),\n",
    "    \"home_advantage\": np.random.randint(0, 2, num_games),\n",
    "    \"home_team_win\": np.random.randint(0, 2, num_games)\n",
    "})"
   ]
  },
  {
   "cell_type": "code",
   "execution_count": 4,
   "id": "ccfd1088-fc19-4834-bfd6-da7e2902ae3e",
   "metadata": {},
   "outputs": [
    {
     "name": "stdout",
     "output_type": "stream",
     "text": [
      "Logistic Regression Accuracy: 0.5466666666666666\n",
      "Random Forest Accuracy: 0.4766666666666667\n"
     ]
    }
   ],
   "source": [
    "nba_data[\"rating_diff\"] = nba_data[\"home_team_rating\"] - nba_data[\"away_team_rating\"]\n",
    "nba_data[\"streak_diff\"] = nba_data[\"home_win_streak\"] - nba_data[\"away_win_streak\"]\n",
    "\n",
    "features = [\"rating_diff\", \"streak_diff\", \"home_advantage\"]\n",
    "target = \"home_team_win\"\n",
    "\n",
    "X = nba_data[features]\n",
    "y = nba_data[target]\n",
    "\n",
    "X_train, X_test, y_train, y_test = train_test_split(X, y, shuffle=False, test_size=0.2)\n",
    "\n",
    "log_clf = LogisticRegression()\n",
    "log_clf.fit(X_train, y_train)\n",
    "log_preds = log_clf.predict(X_test)\n",
    "print(\"Logistic Regression Accuracy:\", accuracy_score(y_test, log_preds))\n",
    "\n",
    "rf_clf = RandomForestClassifier(n_estimators=100)\n",
    "rf_clf.fit(X_train, y_train)\n",
    "rf_preds = rf_clf.predict(X_test)\n",
    "print(\"Random Forest Accuracy:\", accuracy_score(y_test, rf_preds))"
   ]
  },
  {
   "cell_type": "code",
   "execution_count": 5,
   "id": "c0241826-0d79-4973-8f65-cac5abb0750f",
   "metadata": {},
   "outputs": [
    {
     "name": "stderr",
     "output_type": "stream",
     "text": [
      "/Library/Frameworks/Python.framework/Versions/3.11/lib/python3.11/site-packages/keras/src/layers/rnn/rnn.py:199: UserWarning: Do not pass an `input_shape`/`input_dim` argument to a layer. When using Sequential models, prefer using an `Input(shape)` object as the first layer in the model instead.\n",
      "  super().__init__(**kwargs)\n"
     ]
    },
    {
     "name": "stdout",
     "output_type": "stream",
     "text": [
      "Epoch 1/5\n",
      "\u001b[1m38/38\u001b[0m \u001b[32m━━━━━━━━━━━━━━━━━━━━\u001b[0m\u001b[37m\u001b[0m \u001b[1m2s\u001b[0m 4ms/step - accuracy: 0.5060 - loss: 0.6977\n",
      "Epoch 2/5\n",
      "\u001b[1m38/38\u001b[0m \u001b[32m━━━━━━━━━━━━━━━━━━━━\u001b[0m\u001b[37m\u001b[0m \u001b[1m0s\u001b[0m 5ms/step - accuracy: 0.5349 - loss: 0.6896\n",
      "Epoch 3/5\n",
      "\u001b[1m38/38\u001b[0m \u001b[32m━━━━━━━━━━━━━━━━━━━━\u001b[0m\u001b[37m\u001b[0m \u001b[1m0s\u001b[0m 4ms/step - accuracy: 0.5214 - loss: 0.6928\n",
      "Epoch 4/5\n",
      "\u001b[1m38/38\u001b[0m \u001b[32m━━━━━━━━━━━━━━━━━━━━\u001b[0m\u001b[37m\u001b[0m \u001b[1m0s\u001b[0m 5ms/step - accuracy: 0.5257 - loss: 0.6950\n",
      "Epoch 5/5\n",
      "\u001b[1m38/38\u001b[0m \u001b[32m━━━━━━━━━━━━━━━━━━━━\u001b[0m\u001b[37m\u001b[0m \u001b[1m0s\u001b[0m 5ms/step - accuracy: 0.5477 - loss: 0.6815\n"
     ]
    },
    {
     "data": {
      "text/plain": [
       "<keras.src.callbacks.history.History at 0x135dda6d0>"
      ]
     },
     "execution_count": 5,
     "metadata": {},
     "output_type": "execute_result"
    }
   ],
   "source": [
    "seq_len = 10\n",
    "sequences, labels = [], []\n",
    "\n",
    "for i in range(seq_len, len(X)):\n",
    "    sequences.append(X.iloc[i-seq_len:i].values)\n",
    "    labels.append(y.iloc[i])\n",
    "\n",
    "X_seq = np.array(sequences)\n",
    "y_seq = np.array(labels)\n",
    "\n",
    "split = int(0.8 * len(X_seq))\n",
    "X_seq_train, X_seq_test = X_seq[:split], X_seq[split:]\n",
    "y_seq_train, y_seq_test = y_seq[:split], y_seq[split:]\n",
    "\n",
    "model = Sequential([\n",
    "    LSTM(32, input_shape=(seq_len, X_seq.shape[2]), return_sequences=False),\n",
    "    Dropout(0.3),\n",
    "    Dense(1, activation=\"sigmoid\")\n",
    "])\n",
    "model.compile(loss=\"binary_crossentropy\", optimizer=\"adam\", metrics=[\"accuracy\"])\n",
    "model.fit(X_seq_train, y_seq_train, epochs=5, batch_size=32, verbose=1)"
   ]
  },
  {
   "cell_type": "code",
   "execution_count": 6,
   "id": "415c5ba8-5a9b-43a3-a245-7d03063a21ee",
   "metadata": {},
   "outputs": [
    {
     "name": "stdout",
     "output_type": "stream",
     "text": [
      "\u001b[1m10/10\u001b[0m \u001b[32m━━━━━━━━━━━━━━━━━━━━\u001b[0m\u001b[37m\u001b[0m \u001b[1m0s\u001b[0m 17ms/step\n",
      "LSTM Accuracy: 0.5268456375838926\n"
     ]
    }
   ],
   "source": [
    "lstm_preds = (model.predict(X_seq_test) > 0.5).astype(int).flatten()\n",
    "print(\"LSTM Accuracy:\", accuracy_score(y_seq_test, lstm_preds))"
   ]
  }
 ],
 "metadata": {
  "kernelspec": {
   "display_name": "Python (nba)",
   "language": "python",
   "name": "nba-env"
  },
  "language_info": {
   "codemirror_mode": {
    "name": "ipython",
    "version": 3
   },
   "file_extension": ".py",
   "mimetype": "text/x-python",
   "name": "python",
   "nbconvert_exporter": "python",
   "pygments_lexer": "ipython3",
   "version": "3.11.4"
  }
 },
 "nbformat": 4,
 "nbformat_minor": 5
}
